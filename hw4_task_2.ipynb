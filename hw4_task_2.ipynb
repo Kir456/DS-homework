{
 "cells": [
  {
   "cell_type": "code",
   "execution_count": 1,
   "metadata": {},
   "outputs": [],
   "source": [
    "import pandas as pd\n",
    "from statsmodels.stats.proportion import proportions_ztest"
   ]
  },
  {
   "cell_type": "code",
   "execution_count": 2,
   "metadata": {},
   "outputs": [],
   "source": [
    "# загрузка датафреймов\n",
    "events = pd.read_excel('hw_lesson04_events.xlsx')\n",
    "purchases = pd.read_csv('hw_lesson04_purchases.csv')"
   ]
  },
  {
   "cell_type": "code",
   "execution_count": 3,
   "metadata": {},
   "outputs": [],
   "source": [
    "# редактирование данных\n",
    "events['event_name'] = events['event_name'].replace('tuturial_started', 'tutorial_started')"
   ]
  },
  {
   "cell_type": "code",
   "execution_count": 4,
   "metadata": {},
   "outputs": [],
   "source": [
    "# подготовка данных\n",
    "bp = events.query('acq_channel == \"BrainPlus\"')\n",
    "total_bp = bp['user_id'].nunique()\n",
    "firstgame_bp = bp.query('event_name == \"first_game\"')['user_id'].nunique()"
   ]
  },
  {
   "cell_type": "code",
   "execution_count": 5,
   "metadata": {},
   "outputs": [
    {
     "name": "stdout",
     "output_type": "stream",
     "text": [
      "Z-статистика: -14.10547\n",
      "p-value: 0.00000\n",
      "Отклоняем нулевую гипотезу: есть значимая разница.\n"
     ]
    }
   ],
   "source": [
    "# одновыборочный z-test\n",
    "alpha = 0.05\n",
    "value = 0.5\n",
    "\n",
    "stat, p_value = proportions_ztest(firstgame_bp, total_bp, value = value)\n",
    "\n",
    "print(f\"Z-статистика: {stat:.5f}\")\n",
    "print(f\"p-value: {p_value:.5f}\")\n",
    "\n",
    "if p_value < alpha:\n",
    "    print(\"Отклоняем нулевую гипотезу: есть значимая разница.\")\n",
    "else:\n",
    "    print(\"Не хватает оснований для отклонения нулевой гипотезы.\")"
   ]
  },
  {
   "cell_type": "markdown",
   "metadata": {},
   "source": [
    "В результате этого теста выяснили, что доля пользователей из источника BrainPlus, игравших первую самостоятельную битву не равна 50%, а меньше"
   ]
  },
  {
   "cell_type": "code",
   "execution_count": 6,
   "metadata": {},
   "outputs": [],
   "source": [
    "# доподготовка данных\n",
    "sa = events.query('acq_channel == \"SenseAds\"')\n",
    "total_sa = sa['user_id'].nunique()\n",
    "firstgame_sa = sa.query('event_name == \"first_game\"')['user_id'].nunique()"
   ]
  },
  {
   "cell_type": "code",
   "execution_count": 7,
   "metadata": {},
   "outputs": [
    {
     "name": "stdout",
     "output_type": "stream",
     "text": [
      "Z-статистика: -52.39639\n",
      "p-value: 0.00000\n",
      "Отклоняем нулевую гипотезу: есть значимая разница.\n"
     ]
    }
   ],
   "source": [
    "# двувыборочный z-test\n",
    "alpha = 0.05\n",
    "\n",
    "stat, p_value = proportions_ztest([firstgame_bp, firstgame_sa], [total_bp, total_sa])\n",
    "\n",
    "print(f\"Z-статистика: {stat:.5f}\")\n",
    "print(f\"p-value: {p_value:.5f}\")\n",
    "\n",
    "if p_value < alpha:\n",
    "    print(\"Отклоняем нулевую гипотезу: есть значимая разница.\")\n",
    "else:\n",
    "    print(\"Не хватает оснований для отклонения нулевой гипотезы.\")"
   ]
  },
  {
   "cell_type": "markdown",
   "metadata": {},
   "source": [
    "В результате этого теста выяснили, что доли пользователей, игравших первую самостоятельную битву, не равны для пользователей из источников BrainPlus и SenseAds, доля таких пользователей для BrainPlus меньше"
   ]
  }
 ],
 "metadata": {
  "kernelspec": {
   "display_name": "Python 3",
   "language": "python",
   "name": "python3"
  },
  "language_info": {
   "codemirror_mode": {
    "name": "ipython",
    "version": 3
   },
   "file_extension": ".py",
   "mimetype": "text/x-python",
   "name": "python",
   "nbconvert_exporter": "python",
   "pygments_lexer": "ipython3",
   "version": "3.12.5"
  }
 },
 "nbformat": 4,
 "nbformat_minor": 2
}
