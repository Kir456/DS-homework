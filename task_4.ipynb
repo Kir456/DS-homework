{
 "cells": [
  {
   "cell_type": "code",
   "execution_count": 1,
   "metadata": {},
   "outputs": [],
   "source": [
    "import pandas as pd\n",
    "import scipy.stats as stats"
   ]
  },
  {
   "cell_type": "code",
   "execution_count": 3,
   "metadata": {},
   "outputs": [],
   "source": [
    "# загрузка датафреймов\n",
    "events = pd.read_excel('hw_lesson04_events.xlsx')\n",
    "purchases = pd.read_csv('hw_lesson04_purchases.csv')"
   ]
  },
  {
   "cell_type": "code",
   "execution_count": 4,
   "metadata": {},
   "outputs": [],
   "source": [
    "# редактирование данных\n",
    "events['event_name'] = events['event_name'].replace('tuturial_started', 'tutorial_started')"
   ]
  },
  {
   "cell_type": "code",
   "execution_count": 6,
   "metadata": {},
   "outputs": [
    {
     "name": "stdout",
     "output_type": "stream",
     "text": [
      "p-value: 0.80705\n",
      "Не отвергаем нулевую гипотезу: данные двух выборок получены из одной генеральной совокупности.\n"
     ]
    }
   ],
   "source": [
    "# готовим данные\n",
    "report = purchases.groupby('user_id').agg({'acq_channel': 'first', 'transactions': 'sum'})\n",
    "report_ga = report.query('acq_channel == \"GameAds\"')['transactions']\n",
    "report_ja = report.query('acq_channel == \"JetAds\"')['transactions']\n",
    "# задаем уровень значимости\n",
    "alpha = 0.05\n",
    "#проводим тест\n",
    "p_value = stats.mannwhitneyu(report_ga, report_ja, alternative = 'two-sided').pvalue\n",
    "print('p-value: {:.5f}'.format(p_value))\n",
    "# анализируем результат\n",
    "if p_value < alpha:\n",
    "    print('Отвергаем нулевую гипотезу: данные двух выборок получены из разных генеральных совокупностей.')\n",
    "else:\n",
    "    print('Не отвергаем нулевую гипотезу: данные двух выборок получены из одной генеральной совокупности.')"
   ]
  },
  {
   "cell_type": "markdown",
   "metadata": {},
   "source": [
    "Результаты этого теста очень близки к t-тесту без выбросов. Таким образом, эти тесты работают почти по одному принципу, так как и там, и там есть усреднение данных, но они реализованы немного по-разному."
   ]
  }
 ],
 "metadata": {
  "kernelspec": {
   "display_name": "Python 3",
   "language": "python",
   "name": "python3"
  },
  "language_info": {
   "codemirror_mode": {
    "name": "ipython",
    "version": 3
   },
   "file_extension": ".py",
   "mimetype": "text/x-python",
   "name": "python",
   "nbconvert_exporter": "python",
   "pygments_lexer": "ipython3",
   "version": "3.12.5"
  }
 },
 "nbformat": 4,
 "nbformat_minor": 2
}
