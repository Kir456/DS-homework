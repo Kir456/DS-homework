{
 "cells": [
  {
   "cell_type": "code",
   "execution_count": 1,
   "metadata": {},
   "outputs": [],
   "source": [
    "import pandas as pd"
   ]
  },
  {
   "cell_type": "code",
   "execution_count": 8,
   "metadata": {},
   "outputs": [],
   "source": [
    "#создаем 2 датафрейма по 2 файлам\n",
    "df_tutorial = pd.read_csv('hw_lesson02_tutorial_completed.csv')\n",
    "df_sessions = pd.read_excel('hw_lesson02_sessions.xlsx')"
   ]
  },
  {
   "cell_type": "code",
   "execution_count": 12,
   "metadata": {},
   "outputs": [],
   "source": [
    "#создание новых датафреймов путем фильтрации выбросов, используя перцентиль и метод query\n",
    "ejection_tutorial = df_tutorial['duration_sec'].quantile(0.99)\n",
    "df_tutorial_new = df_tutorial.query('duration_sec < @ejection_tutorial')\n",
    "ejection_sessions = df_sessions['session_duration'].quantile(0.99)\n",
    "df_sessions_new = df_sessions.query('session_duration < @ejection_sessions')"
   ]
  },
  {
   "cell_type": "code",
   "execution_count": 17,
   "metadata": {},
   "outputs": [],
   "source": [
    "#сохранение датафреймов в csv файл\n",
    "df_tutorial_new.to_csv('tutorial_completed_new.csv', index=False)\n",
    "df_sessions_new.to_csv('sessions_new.csv', index=False)"
   ]
  }
 ],
 "metadata": {
  "kernelspec": {
   "display_name": "Python 3",
   "language": "python",
   "name": "python3"
  },
  "language_info": {
   "codemirror_mode": {
    "name": "ipython",
    "version": 3
   },
   "file_extension": ".py",
   "mimetype": "text/x-python",
   "name": "python",
   "nbconvert_exporter": "python",
   "pygments_lexer": "ipython3",
   "version": "3.12.5"
  }
 },
 "nbformat": 4,
 "nbformat_minor": 2
}
