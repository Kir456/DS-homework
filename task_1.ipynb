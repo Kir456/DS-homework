{
 "cells": [
  {
   "cell_type": "code",
   "execution_count": 11,
   "metadata": {},
   "outputs": [],
   "source": [
    "import pandas as pd"
   ]
  },
  {
   "cell_type": "code",
   "execution_count": 12,
   "metadata": {},
   "outputs": [],
   "source": [
    "#создаем 2 датафрейма по 2 файлам\n",
    "df_tutorial = pd.read_csv('hw_lesson02_tutorial_completed.csv')\n",
    "df_sessions = pd.read_excel('hw_lesson02_sessions.xlsx')"
   ]
  },
  {
   "cell_type": "code",
   "execution_count": 13,
   "metadata": {},
   "outputs": [
    {
     "name": "stdout",
     "output_type": "stream",
     "text": [
      "<class 'pandas.core.frame.DataFrame'>\n",
      "RangeIndex: 59857 entries, 0 to 59856\n",
      "Data columns (total 4 columns):\n",
      " #   Column        Non-Null Count  Dtype \n",
      "---  ------        --------------  ----- \n",
      " 0   user_id       59857 non-null  object\n",
      " 1   event_name    59857 non-null  object\n",
      " 2   event_dt      59857 non-null  object\n",
      " 3   duration_sec  59857 non-null  int64 \n",
      "dtypes: int64(1), object(3)\n",
      "memory usage: 1.8+ MB\n"
     ]
    },
    {
     "data": {
      "text/html": [
       "<div>\n",
       "<style scoped>\n",
       "    .dataframe tbody tr th:only-of-type {\n",
       "        vertical-align: middle;\n",
       "    }\n",
       "\n",
       "    .dataframe tbody tr th {\n",
       "        vertical-align: top;\n",
       "    }\n",
       "\n",
       "    .dataframe thead th {\n",
       "        text-align: right;\n",
       "    }\n",
       "</style>\n",
       "<table border=\"1\" class=\"dataframe\">\n",
       "  <thead>\n",
       "    <tr style=\"text-align: right;\">\n",
       "      <th></th>\n",
       "      <th>user_id</th>\n",
       "      <th>region</th>\n",
       "      <th>device</th>\n",
       "      <th>channel</th>\n",
       "      <th>session_duration</th>\n",
       "      <th>session_start</th>\n",
       "    </tr>\n",
       "  </thead>\n",
       "  <tbody>\n",
       "    <tr>\n",
       "      <th>0</th>\n",
       "      <td>d35ad20dd45d</td>\n",
       "      <td>SEA</td>\n",
       "      <td>iPhone</td>\n",
       "      <td>GameAds</td>\n",
       "      <td>2589.186227</td>\n",
       "      <td>2020-04-01 17:51:25</td>\n",
       "    </tr>\n",
       "    <tr>\n",
       "      <th>1</th>\n",
       "      <td>ac4a113c52c_</td>\n",
       "      <td>CIS</td>\n",
       "      <td>iPhone</td>\n",
       "      <td>GameAds</td>\n",
       "      <td>1467.539334</td>\n",
       "      <td>2020-04-01 09:39:33</td>\n",
       "    </tr>\n",
       "    <tr>\n",
       "      <th>2</th>\n",
       "      <td>d0337d117cc8</td>\n",
       "      <td>CIS</td>\n",
       "      <td>iPhone</td>\n",
       "      <td>GameAds</td>\n",
       "      <td>3777.737508</td>\n",
       "      <td>2020-04-01 01:19:56</td>\n",
       "    </tr>\n",
       "    <tr>\n",
       "      <th>3</th>\n",
       "      <td>2f8c_262-_85</td>\n",
       "      <td>North America</td>\n",
       "      <td>iPhone</td>\n",
       "      <td>GameAds</td>\n",
       "      <td>3755.966201</td>\n",
       "      <td>2020-04-01 11:21:54</td>\n",
       "    </tr>\n",
       "    <tr>\n",
       "      <th>4</th>\n",
       "      <td>4b1-114-4692</td>\n",
       "      <td>Europe</td>\n",
       "      <td>iPhone</td>\n",
       "      <td>GameAds</td>\n",
       "      <td>2898.802314</td>\n",
       "      <td>2020-04-01 18:29:57</td>\n",
       "    </tr>\n",
       "    <tr>\n",
       "      <th>5</th>\n",
       "      <td>3-978101_f0d</td>\n",
       "      <td>North America</td>\n",
       "      <td>iPhone</td>\n",
       "      <td>GameAds</td>\n",
       "      <td>2086.907960</td>\n",
       "      <td>2020-04-01 23:39:28</td>\n",
       "    </tr>\n",
       "    <tr>\n",
       "      <th>6</th>\n",
       "      <td>b845_77f5c61</td>\n",
       "      <td>North America</td>\n",
       "      <td>iPhone</td>\n",
       "      <td>SenseAds</td>\n",
       "      <td>5313.214652</td>\n",
       "      <td>2020-04-01 10:53:58</td>\n",
       "    </tr>\n",
       "    <tr>\n",
       "      <th>7</th>\n",
       "      <td>6519-_24604d</td>\n",
       "      <td>North America</td>\n",
       "      <td>iPhone</td>\n",
       "      <td>GameAds</td>\n",
       "      <td>2075.250965</td>\n",
       "      <td>2020-04-01 02:35:28</td>\n",
       "    </tr>\n",
       "    <tr>\n",
       "      <th>8</th>\n",
       "      <td>76a8df88-b31</td>\n",
       "      <td>SEA</td>\n",
       "      <td>iPhone</td>\n",
       "      <td>GameAds</td>\n",
       "      <td>1597.009074</td>\n",
       "      <td>2020-04-01 04:01:28</td>\n",
       "    </tr>\n",
       "    <tr>\n",
       "      <th>9</th>\n",
       "      <td>d475bca_0f4b</td>\n",
       "      <td>Europe</td>\n",
       "      <td>iPhone</td>\n",
       "      <td>SenseAds</td>\n",
       "      <td>2769.343087</td>\n",
       "      <td>2020-04-01 11:20:34</td>\n",
       "    </tr>\n",
       "  </tbody>\n",
       "</table>\n",
       "</div>"
      ],
      "text/plain": [
       "        user_id         region  device   channel  session_duration  \\\n",
       "0  d35ad20dd45d            SEA  iPhone   GameAds       2589.186227   \n",
       "1  ac4a113c52c_            CIS  iPhone   GameAds       1467.539334   \n",
       "2  d0337d117cc8            CIS  iPhone   GameAds       3777.737508   \n",
       "3  2f8c_262-_85  North America  iPhone   GameAds       3755.966201   \n",
       "4  4b1-114-4692         Europe  iPhone   GameAds       2898.802314   \n",
       "5  3-978101_f0d  North America  iPhone   GameAds       2086.907960   \n",
       "6  b845_77f5c61  North America  iPhone  SenseAds       5313.214652   \n",
       "7  6519-_24604d  North America  iPhone   GameAds       2075.250965   \n",
       "8  76a8df88-b31            SEA  iPhone   GameAds       1597.009074   \n",
       "9  d475bca_0f4b         Europe  iPhone  SenseAds       2769.343087   \n",
       "\n",
       "        session_start  \n",
       "0 2020-04-01 17:51:25  \n",
       "1 2020-04-01 09:39:33  \n",
       "2 2020-04-01 01:19:56  \n",
       "3 2020-04-01 11:21:54  \n",
       "4 2020-04-01 18:29:57  \n",
       "5 2020-04-01 23:39:28  \n",
       "6 2020-04-01 10:53:58  \n",
       "7 2020-04-01 02:35:28  \n",
       "8 2020-04-01 04:01:28  \n",
       "9 2020-04-01 11:20:34  "
      ]
     },
     "execution_count": 13,
     "metadata": {},
     "output_type": "execute_result"
    }
   ],
   "source": [
    "#используем info и head для 2 датафреймов\n",
    "df_tutorial.info()\n",
    "df_sessions.head(10)"
   ]
  },
  {
   "cell_type": "code",
   "execution_count": 14,
   "metadata": {},
   "outputs": [
    {
     "data": {
      "text/plain": [
       "region\n",
       "CN               33116\n",
       "North America    28260\n",
       "CIS              26187\n",
       "Europe           23413\n",
       "South America    19962\n",
       "Africa           15049\n",
       "SEA              12356\n",
       "Australia         9547\n",
       "Name: count, dtype: int64"
      ]
     },
     "execution_count": 14,
     "metadata": {},
     "output_type": "execute_result"
    }
   ],
   "source": [
    "#все значения столбца \"географический регион\" и их количество\n",
    "df_sessions['region'].value_counts()"
   ]
  },
  {
   "cell_type": "code",
   "execution_count": 15,
   "metadata": {},
   "outputs": [
    {
     "data": {
      "text/plain": [
       "'2020-04-01 00:04:01'"
      ]
     },
     "execution_count": 15,
     "metadata": {},
     "output_type": "execute_result"
    }
   ],
   "source": [
    "#минимальная дата 1 датафрейма\n",
    "df_tutorial['event_dt'].min()"
   ]
  },
  {
   "cell_type": "code",
   "execution_count": 16,
   "metadata": {},
   "outputs": [
    {
     "data": {
      "text/plain": [
       "Timestamp('2020-04-01 00:00:23')"
      ]
     },
     "execution_count": 16,
     "metadata": {},
     "output_type": "execute_result"
    }
   ],
   "source": [
    "#минимальная дата 2 датафрейма\n",
    "df_sessions['session_start'].min()"
   ]
  },
  {
   "cell_type": "code",
   "execution_count": 17,
   "metadata": {},
   "outputs": [
    {
     "data": {
      "text/plain": [
       "'2020-06-30 23:54:40'"
      ]
     },
     "execution_count": 17,
     "metadata": {},
     "output_type": "execute_result"
    }
   ],
   "source": [
    "#максимальная дата 1 датафрейма\n",
    "df_tutorial['event_dt'].max()"
   ]
  },
  {
   "cell_type": "code",
   "execution_count": 18,
   "metadata": {},
   "outputs": [
    {
     "data": {
      "text/plain": [
       "Timestamp('2020-06-30 23:59:45')"
      ]
     },
     "execution_count": 18,
     "metadata": {},
     "output_type": "execute_result"
    }
   ],
   "source": [
    "#максимальная дата 2 датафрейма\n",
    "df_sessions['session_start'].max()"
   ]
  },
  {
   "cell_type": "code",
   "execution_count": 19,
   "metadata": {},
   "outputs": [],
   "source": [
    "#выводы и наблюдения: команда info выводит основную информацию датафрейма, а head(10) - первые 10 строк датафрейма;\n",
    "#категориальные переменные включают в себя различные значения в различных количествах;\n",
    "#данные покрывают временной период апрель-июнь"
   ]
  }
 ],
 "metadata": {
  "kernelspec": {
   "display_name": "Python 3",
   "language": "python",
   "name": "python3"
  },
  "language_info": {
   "codemirror_mode": {
    "name": "ipython",
    "version": 3
   },
   "file_extension": ".py",
   "mimetype": "text/x-python",
   "name": "python",
   "nbconvert_exporter": "python",
   "pygments_lexer": "ipython3",
   "version": "3.12.5"
  }
 },
 "nbformat": 4,
 "nbformat_minor": 2
}
